{
 "cells": [
  {
   "cell_type": "code",
   "execution_count": 192,
   "id": "prescription-independence",
   "metadata": {},
   "outputs": [],
   "source": [
    "import hanabi_multiagent_framework as hmf\n",
    "from hanabi_multiagent_framework.utils import make_hanabi_env_config\n",
    "import numpy as np\n",
    "from numpy import ndarray\n",
    "from hanabi_agents.rule_based import ParallelRulebasedAgent\n",
    "import hanabi_agents.rule_based.predefined_rules as rules\n",
    "from hanabi_learning_environment import pyhanabi, rl_env\n",
    "from hanabi_agents.rule_based.ruleset import Ruleset \n",
    "from evolve import Evolution\n",
    "import timeit\n",
    "import statistics\n",
    "import dill as pickle\n",
    "import math"
   ]
  },
  {
   "cell_type": "markdown",
   "id": "ordinary-economy",
   "metadata": {},
   "source": [
    "## Final Entropy Code"
   ]
  },
  {
   "cell_type": "code",
   "execution_count": 189,
   "id": "thick-stretch",
   "metadata": {},
   "outputs": [],
   "source": [
    "def Intra_Agent_Entropy(my_rules):\n",
    "\n",
    "    names_dict = {}\n",
    "\n",
    "    for i in rule_names:\n",
    "        names_dict[i] = 1e-6 \n",
    "\n",
    "    agent_rules = []\n",
    "    #For all agents, make a names dictionary\n",
    "    for _ in range(my_rules.shape[0]):\n",
    "        agent_rules.append(names_dict.copy())\n",
    "\n",
    "\n",
    "    agent_rules = np.array(agent_rules) \n",
    "\n",
    "    for i in range(my_rules.shape[0]):\n",
    "        rule_list = my_rules[i]\n",
    "        agent = agent_rules[i]\n",
    "        for rule in rule_list:\n",
    "            if agent[rule.__name__] == 1e-6:\n",
    "                agent[rule.__name__] = 1\n",
    "\n",
    "            else:\n",
    "                agent[rule.__name__] += 1\n",
    "\n",
    "    # Update Probabilities\n",
    "    agent_probs = []\n",
    "\n",
    "    for agent in agent_rules:\n",
    "        agent_probs.append(agent.copy())\n",
    "\n",
    "    for agent in agent_probs:\n",
    "        for rule in agent.keys():\n",
    "            agent[rule] = agent[rule] / my_rules.shape[1]\n",
    "\n",
    "\n",
    "    # Calculate Entropy\n",
    "    Entropies = []\n",
    "    for agent in agent_probs:\n",
    "        E = 0\n",
    "        for rules in agent.keys():\n",
    "            E += - agent[rule] * math.log(agent[rule])\n",
    "\n",
    "        Entropies.append(E)\n",
    "\n",
    "    Entropies = np.array(Entropies)\n",
    "\n",
    "    return Entropies"
   ]
  },
  {
   "cell_type": "code",
   "execution_count": 207,
   "id": "desperate-angola",
   "metadata": {},
   "outputs": [],
   "source": [
    "population_size = 5\n",
    "n_rules = 20\n",
    "my_rules = np.array([rules.random_rules(n_rules) for _ in range(population_size)])\n",
    "\n",
    "# diversity = Intra_Agent_Entropy(my_rules)"
   ]
  },
  {
   "cell_type": "code",
   "execution_count": 226,
   "id": "opposite-jacob",
   "metadata": {},
   "outputs": [
    {
     "data": {
      "text/plain": [
       "(12,)"
      ]
     },
     "execution_count": 226,
     "metadata": {},
     "output_type": "execute_result"
    }
   ],
   "source": [
    "rule_names = []\n",
    "for i in range(my_rules.shape[0]):\n",
    "    for j in range(my_rules.shape[1]):\n",
    "        rule_names.append(my_rules[i,j].__name__)\n",
    "\n",
    "rule_names = np.unique(rule_names)"
   ]
  },
  {
   "cell_type": "code",
   "execution_count": 224,
   "id": "electronic-newark",
   "metadata": {},
   "outputs": [
    {
     "data": {
      "text/plain": [
       "array(['discard_oldest_first', 'discard_randomly', 'hail_mary',\n",
       "       'osawa_discard', 'play_probably_safe_treshold',\n",
       "       'play_probably_useless_treshold', 'tell_anyone_useful_card',\n",
       "       'tell_anyone_useless_card', 'tell_dispensable',\n",
       "       'tell_most_information', 'tell_playable_card_outer',\n",
       "       'tell_randomly'], dtype='<U30')"
      ]
     },
     "execution_count": 224,
     "metadata": {},
     "output_type": "execute_result"
    }
   ],
   "source": []
  },
  {
   "cell_type": "code",
   "execution_count": 212,
   "id": "beneficial-external",
   "metadata": {},
   "outputs": [
    {
     "data": {
      "text/plain": [
       "array([2, 3, 0, 1, 4])"
      ]
     },
     "execution_count": 212,
     "metadata": {},
     "output_type": "execute_result"
    }
   ],
   "source": [
    "diversity"
   ]
  },
  {
   "cell_type": "code",
   "execution_count": 215,
   "id": "hydraulic-darkness",
   "metadata": {},
   "outputs": [
    {
     "data": {
      "text/plain": [
       "array(['discard_oldest_first', 'discard_randomly', 'hail_mary',\n",
       "       'osawa_discard', 'play_probably_safe_treshold',\n",
       "       'play_probably_useless_treshold', 'tell_anyone_useful_card',\n",
       "       'tell_anyone_useless_card', 'tell_dispensable',\n",
       "       'tell_most_information', 'tell_playable_card_outer',\n",
       "       'tell_randomly'], dtype='<U30')"
      ]
     },
     "execution_count": 215,
     "metadata": {},
     "output_type": "execute_result"
    }
   ],
   "source": [
    "rule_names"
   ]
  },
  {
   "cell_type": "code",
   "execution_count": null,
   "id": "upper-pointer",
   "metadata": {},
   "outputs": [],
   "source": []
  }
 ],
 "metadata": {
  "kernelspec": {
   "display_name": "Python 3",
   "language": "python",
   "name": "python3"
  },
  "language_info": {
   "codemirror_mode": {
    "name": "ipython",
    "version": 3
   },
   "file_extension": ".py",
   "mimetype": "text/x-python",
   "name": "python",
   "nbconvert_exporter": "python",
   "pygments_lexer": "ipython3",
   "version": "3.8.5"
  }
 },
 "nbformat": 4,
 "nbformat_minor": 5
}
