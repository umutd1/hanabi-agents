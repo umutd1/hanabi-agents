{
 "cells": [
  {
   "cell_type": "code",
   "execution_count": 1,
   "id": "prescription-independence",
   "metadata": {},
   "outputs": [],
   "source": [
    "import hanabi_multiagent_framework as hmf\n",
    "from hanabi_multiagent_framework.utils import make_hanabi_env_config\n",
    "import numpy as np\n",
    "from numpy import ndarray\n",
    "from hanabi_agents.rule_based import ParallelRulebasedAgent\n",
    "import hanabi_agents.rule_based.predefined_rules as rules\n",
    "from hanabi_learning_environment import pyhanabi, rl_env\n",
    "from hanabi_agents.rule_based.Diversity import Diversity\n",
    "from hanabi_agents.rule_based.ruleset import Ruleset \n",
    "from evolve import Evolution\n",
    "import timeit\n",
    "import statistics\n",
    "import dill as pickle\n",
    "import math"
   ]
  },
  {
   "cell_type": "markdown",
   "id": "ordinary-economy",
   "metadata": {},
   "source": [
    "## Intra-Agent Entropy Code"
   ]
  },
  {
   "cell_type": "code",
   "execution_count": 189,
   "id": "thick-stretch",
   "metadata": {},
   "outputs": [],
   "source": [
    "def Intra_Agent_Entropy(my_rules):\n",
    "\n",
    "    names_dict = {}\n",
    "\n",
    "    for i in rule_names:\n",
    "        names_dict[i] = 1e-6 \n",
    "\n",
    "    agent_rules = []\n",
    "    #For all agents, make a names dictionary\n",
    "    for _ in range(my_rules.shape[0]):\n",
    "        agent_rules.append(names_dict.copy())\n",
    "\n",
    "\n",
    "    agent_rules = np.array(agent_rules) \n",
    "\n",
    "    for i in range(my_rules.shape[0]):\n",
    "        rule_list = my_rules[i]\n",
    "        agent = agent_rules[i]\n",
    "        for rule in rule_list:\n",
    "            if agent[rule.__name__] == 1e-6:\n",
    "                agent[rule.__name__] = 1\n",
    "\n",
    "            else:\n",
    "                agent[rule.__name__] += 1\n",
    "\n",
    "    # Update Probabilities\n",
    "    agent_probs = []\n",
    "\n",
    "    for agent in agent_rules:\n",
    "        agent_probs.append(agent.copy())\n",
    "\n",
    "    for agent in agent_probs:\n",
    "        for rule in agent.keys():\n",
    "            agent[rule] = agent[rule] / my_rules.shape[1]\n",
    "\n",
    "\n",
    "    # Calculate Entropy\n",
    "    Entropies = []\n",
    "    for agent in agent_probs:\n",
    "        E = 0\n",
    "        for rules in agent.keys():\n",
    "            E += - agent[rule] * math.log(agent[rule])\n",
    "\n",
    "        Entropies.append(E)\n",
    "\n",
    "    Entropies = np.array(Entropies)\n",
    "\n",
    "    return Entropies"
   ]
  },
  {
   "cell_type": "code",
   "execution_count": 207,
   "id": "desperate-angola",
   "metadata": {},
   "outputs": [],
   "source": [
    "population_size = 5\n",
    "n_rules = 20\n",
    "my_rules = np.array([rules.random_rules(n_rules) for _ in range(population_size)])\n",
    "\n",
    "# diversity = Intra_Agent_Entropy(my_rules)"
   ]
  },
  {
   "cell_type": "code",
   "execution_count": 226,
   "id": "opposite-jacob",
   "metadata": {},
   "outputs": [
    {
     "data": {
      "text/plain": [
       "(12,)"
      ]
     },
     "execution_count": 226,
     "metadata": {},
     "output_type": "execute_result"
    }
   ],
   "source": [
    "rule_names = []\n",
    "for i in range(my_rules.shape[0]):\n",
    "    for j in range(my_rules.shape[1]):\n",
    "        rule_names.append(my_rules[i,j].__name__)\n",
    "\n",
    "rule_names = np.unique(rule_names)"
   ]
  },
  {
   "cell_type": "code",
   "execution_count": 224,
   "id": "electronic-newark",
   "metadata": {},
   "outputs": [
    {
     "data": {
      "text/plain": [
       "array(['discard_oldest_first', 'discard_randomly', 'hail_mary',\n",
       "       'osawa_discard', 'play_probably_safe_treshold',\n",
       "       'play_probably_useless_treshold', 'tell_anyone_useful_card',\n",
       "       'tell_anyone_useless_card', 'tell_dispensable',\n",
       "       'tell_most_information', 'tell_playable_card_outer',\n",
       "       'tell_randomly'], dtype='<U30')"
      ]
     },
     "execution_count": 224,
     "metadata": {},
     "output_type": "execute_result"
    }
   ],
   "source": []
  },
  {
   "cell_type": "code",
   "execution_count": 212,
   "id": "beneficial-external",
   "metadata": {},
   "outputs": [
    {
     "data": {
      "text/plain": [
       "array([2, 3, 0, 1, 4])"
      ]
     },
     "execution_count": 212,
     "metadata": {},
     "output_type": "execute_result"
    }
   ],
   "source": [
    "diversity"
   ]
  },
  {
   "cell_type": "code",
   "execution_count": 215,
   "id": "hydraulic-darkness",
   "metadata": {
    "scrolled": false
   },
   "outputs": [
    {
     "data": {
      "text/plain": [
       "array(['discard_oldest_first', 'discard_randomly', 'hail_mary',\n",
       "       'osawa_discard', 'play_probably_safe_treshold',\n",
       "       'play_probably_useless_treshold', 'tell_anyone_useful_card',\n",
       "       'tell_anyone_useless_card', 'tell_dispensable',\n",
       "       'tell_most_information', 'tell_playable_card_outer',\n",
       "       'tell_randomly'], dtype='<U30')"
      ]
     },
     "execution_count": 215,
     "metadata": {},
     "output_type": "execute_result"
    }
   ],
   "source": [
    "rule_names"
   ]
  },
  {
   "cell_type": "markdown",
   "id": "interesting-position",
   "metadata": {},
   "source": [
    "## Categorical Name Distance"
   ]
  },
  {
   "cell_type": "code",
   "execution_count": 2,
   "id": "unknown-heading",
   "metadata": {},
   "outputs": [],
   "source": [
    "population_size = 5\n",
    "n_rules = 20\n",
    "\n",
    "my_rules = []\n",
    "\n",
    "for _ in range(population_size):\n",
    "    x, _ = rules.random_rules(n_rules) \n",
    "    my_rules.append(np.array(x))\n",
    "\n",
    "my_rules = np.array(my_rules)"
   ]
  },
  {
   "cell_type": "code",
   "execution_count": 3,
   "id": "challenging-explanation",
   "metadata": {},
   "outputs": [
    {
     "data": {
      "text/plain": [
       "(5, 20)"
      ]
     },
     "execution_count": 3,
     "metadata": {},
     "output_type": "execute_result"
    }
   ],
   "source": [
    "my_rules.shape"
   ]
  },
  {
   "cell_type": "code",
   "execution_count": 4,
   "id": "sized-fruit",
   "metadata": {},
   "outputs": [],
   "source": [
    "A = np.array(my_rules[0])\n",
    "B = np.array(my_rules[3])"
   ]
  },
  {
   "cell_type": "code",
   "execution_count": 5,
   "id": "leading-thousand",
   "metadata": {},
   "outputs": [],
   "source": [
    "rulebase = np.array(rules.big_ruleset)\n",
    "\n",
    "axes = [] \n",
    "weights = []\n",
    "\n",
    "for rule in rulebase:     \n",
    "    \n",
    "    if rule.__name__ in axes:\n",
    "            weights[axes.index(rule.__name__)] += 1\n",
    "    else:\n",
    "        axes.append(rule.__name__)\n",
    "        weights.append(1)\n",
    "\n",
    "\n",
    "        \n",
    "\n",
    "axes = np.array(axes)\n",
    "weights = np.array(weights)"
   ]
  },
  {
   "cell_type": "code",
   "execution_count": 6,
   "id": "million-layer",
   "metadata": {
    "scrolled": true
   },
   "outputs": [
    {
     "data": {
      "text/plain": [
       "array([10,  5,  8,  1,  1,  1,  1,  1,  1,  1,  1,  1,  1,  4,  1,  4])"
      ]
     },
     "execution_count": 6,
     "metadata": {},
     "output_type": "execute_result"
    }
   ],
   "source": [
    "weights"
   ]
  },
  {
   "cell_type": "code",
   "execution_count": 7,
   "id": "fantastic-lancaster",
   "metadata": {
    "scrolled": true
   },
   "outputs": [
    {
     "data": {
      "text/plain": [
       "array(['play_probably_safe_treshold', 'play_probably_useless_treshold',\n",
       "       'tell_dispensable', 'hail_mary', 'tell_playable_card_outer',\n",
       "       'tell_randomly', 'tell_anyone_useful_card',\n",
       "       'tell_anyone_useless_card', 'tell_most_information',\n",
       "       'discard_randomly', 'osawa_discard', 'discard_oldest_first',\n",
       "       'tell_if_certain_playable', 'discard_least_playable',\n",
       "       'play_new_hinted', 'tell_safe_new'], dtype='<U30')"
      ]
     },
     "execution_count": 7,
     "metadata": {},
     "output_type": "execute_result"
    }
   ],
   "source": [
    "axes"
   ]
  },
  {
   "cell_type": "code",
   "execution_count": 8,
   "id": "solar-stadium",
   "metadata": {},
   "outputs": [],
   "source": [
    "A_ = np.zeros(axes.shape[0])\n",
    "B_ = np.zeros(axes.shape[0])\n",
    "\n",
    "for rule in A: \n",
    "    index = np.where(axes == rule.__name__)\n",
    "    A_[index] += 1\n",
    "    \n",
    "for rule in B: \n",
    "    index = np.where(axes == rule.__name__ )\n",
    "    B_[index] += 1"
   ]
  },
  {
   "cell_type": "code",
   "execution_count": 9,
   "id": "difficult-martial",
   "metadata": {},
   "outputs": [
    {
     "data": {
      "text/plain": [
       "array([6., 2., 6., 0., 0., 1., 0., 1., 0., 0., 0., 0., 0., 4., 0., 0.])"
      ]
     },
     "execution_count": 9,
     "metadata": {},
     "output_type": "execute_result"
    }
   ],
   "source": [
    "# A_ = A_ / weights\n",
    "A_"
   ]
  },
  {
   "cell_type": "code",
   "execution_count": 10,
   "id": "banner-region",
   "metadata": {},
   "outputs": [
    {
     "data": {
      "text/plain": [
       "array([3., 2., 4., 1., 1., 0., 0., 1., 1., 0., 0., 0., 1., 3., 1., 2.])"
      ]
     },
     "execution_count": 10,
     "metadata": {},
     "output_type": "execute_result"
    }
   ],
   "source": [
    "# B_ = B_ / weights\n",
    "B_"
   ]
  },
  {
   "cell_type": "code",
   "execution_count": 50,
   "id": "offshore-gothic",
   "metadata": {},
   "outputs": [
    {
     "data": {
      "text/plain": [
       "1.7392083483620777"
      ]
     },
     "execution_count": 50,
     "metadata": {},
     "output_type": "execute_result"
    }
   ],
   "source": [
    "np.linalg.norm(A_ - B_)"
   ]
  },
  {
   "cell_type": "code",
   "execution_count": 14,
   "id": "still-southwest",
   "metadata": {},
   "outputs": [
    {
     "data": {
      "text/plain": [
       "0.12165028209126483"
      ]
     },
     "execution_count": 14,
     "metadata": {},
     "output_type": "execute_result"
    }
   ],
   "source": [
    "1 - (A_ @ B_)/ (np.linalg.norm(A_) * np.linalg.norm(B_))\n"
   ]
  },
  {
   "cell_type": "code",
   "execution_count": 13,
   "id": "organized-tourism",
   "metadata": {},
   "outputs": [
    {
     "data": {
      "text/plain": [
       "3.1622776601683795"
      ]
     },
     "execution_count": 13,
     "metadata": {},
     "output_type": "execute_result"
    }
   ],
   "source": [
    "Diversity.Name_Distance(A, B, rulebase)"
   ]
  },
  {
   "cell_type": "code",
   "execution_count": 82,
   "id": "prescription-ancient",
   "metadata": {},
   "outputs": [
    {
     "data": {
      "text/plain": [
       "-3.7"
      ]
     },
     "execution_count": 82,
     "metadata": {},
     "output_type": "execute_result"
    }
   ],
   "source": [
    "score = A_  @ B_\n",
    "\n",
    "sqr = np.mean(A_) * np.mean(B_) * A_.shape[0] * B_.shape[0]\n",
    "\n",
    "# np.sqrt(sqr)\n",
    "\n",
    "# score * 1 / np.sqrt(sqr)\n",
    "\n",
    "1 - score / np.sqrt(sqr)\n"
   ]
  },
  {
   "cell_type": "code",
   "execution_count": 75,
   "id": "historic-genius",
   "metadata": {},
   "outputs": [],
   "source": [
    "def bhattacharya (a,  b):\n",
    "    \n",
    "    assert(a.shape[0] == b.shape[0])\n",
    "    \n",
    "    \n",
    "    # calculate means\n",
    "    a_ = np.mean(a)\n",
    "    b_ = np.mean(b)\n",
    "\n",
    "    # calculate score\n",
    "    score = a @ b\n",
    "    \n",
    "    score = np.sqrt( 1 - ( 1 / np.sqrt(a_*b_*a.shape[0]*b.shape[0]) ) * score )\n",
    "    \n",
    "    return score"
   ]
  },
  {
   "cell_type": "code",
   "execution_count": 76,
   "id": "requested-chance",
   "metadata": {},
   "outputs": [
    {
     "name": "stderr",
     "output_type": "stream",
     "text": [
      "<ipython-input-75-7a1042abe2f4>:13: RuntimeWarning: invalid value encountered in sqrt\n",
      "  score = np.sqrt( 1 - ( 1 / np.sqrt(a_*b_*a.shape[0]*b.shape[0]) ) * score )\n"
     ]
    },
    {
     "data": {
      "text/plain": [
       "nan"
      ]
     },
     "execution_count": 76,
     "metadata": {},
     "output_type": "execute_result"
    }
   ],
   "source": [
    "bhattacharya(A_, B_)"
   ]
  },
  {
   "cell_type": "markdown",
   "id": "present-prototype",
   "metadata": {},
   "source": [
    "## Checking the Evaluation procedure"
   ]
  },
  {
   "cell_type": "code",
   "execution_count": 18,
   "id": "instant-nirvana",
   "metadata": {},
   "outputs": [],
   "source": []
  },
  {
   "cell_type": "code",
   "execution_count": 6,
   "id": "bacterial-jordan",
   "metadata": {},
   "outputs": [
    {
     "data": {
      "text/plain": [
       "array([[[ 5.,  7.,  1.,  4.,  7., 13.,  6., 15.,  3.,  7.],\n",
       "        [ 0.,  0.,  0.,  0.,  0.,  0.,  0.,  0.,  0.,  0.],\n",
       "        [ 4.,  9.,  4.,  9.,  0.,  2.,  8.,  6.,  8.,  4.],\n",
       "        [ 8.,  0.,  9., 15., 12.,  7., 10.,  7.,  0., 11.],\n",
       "        [ 9., 12., 11.,  4.,  3.,  5., 11., 14., 13.,  5.]],\n",
       "\n",
       "       [[ 0.,  0., 15.,  0.,  0.,  0.,  0.,  0.,  0.,  0.],\n",
       "        [ 0.,  0.,  0.,  0.,  0.,  0.,  0.,  0.,  0.,  0.],\n",
       "        [ 0.,  0.,  0.,  0.,  0.,  0.,  0.,  0.,  0.,  0.],\n",
       "        [ 0.,  0.,  0.,  0.,  0.,  0.,  0.,  0.,  0.,  0.],\n",
       "        [ 0.,  3.,  0.,  0.,  5.,  4.,  3.,  0.,  0.,  3.]],\n",
       "\n",
       "       [[ 7.,  2.,  7.,  5.,  7.,  3.,  3.,  6.,  4.,  6.],\n",
       "        [ 0.,  0.,  0.,  0.,  0.,  0.,  0.,  0.,  0.,  0.],\n",
       "        [ 4.,  7.,  5.,  4.,  5.,  8.,  5.,  1.,  4.,  3.],\n",
       "        [ 1.,  3.,  1.,  7.,  1.,  1.,  3.,  5.,  3., 11.],\n",
       "        [14.,  3.,  0., 11.,  4.,  3.,  9.,  0.,  2.,  6.]],\n",
       "\n",
       "       [[ 6.,  9., 10.,  7.,  9., 14.,  9.,  7., 10., 12.],\n",
       "        [ 0.,  0.,  0.,  0.,  0.,  0.,  0.,  0.,  0.,  0.],\n",
       "        [ 8., 11.,  7.,  6.,  6.,  0.,  6., 16., 11.,  8.],\n",
       "        [13., 13.,  0.,  0., 11.,  0.,  7.,  0.,  0., 11.],\n",
       "        [12., 10.,  0.,  0., 11., 10.,  7.,  8.,  8.,  0.]],\n",
       "\n",
       "       [[ 7.,  8., 11.,  9.,  2.,  8., 10., 10.,  2., 11.],\n",
       "        [ 2.,  0.,  2.,  3.,  4.,  6.,  5.,  3.,  3.,  0.],\n",
       "        [ 0.,  0.,  8.,  6.,  7., 11., 12.,  5.,  0.,  8.],\n",
       "        [11.,  8., 11.,  9.,  0.,  0., 12., 13., 13., 15.],\n",
       "        [ 6.,  7.,  7.,  4.,  9.,  6.,  7.,  7.,  4.,  7.]]])"
      ]
     },
     "execution_count": 6,
     "metadata": {},
     "output_type": "execute_result"
    }
   ],
   "source": [
    "population_size = 5\n",
    "n_rules = 20\n",
    "n_parallel = 50 \n",
    "n_players = 2\n",
    "n_generations = 2\n",
    "n_games_per_pair = 10 \n",
    "\n",
    "\n",
    "# Initialize the environment\n",
    "env_conf = make_hanabi_env_config('Hanabi-Full', n_players)\n",
    "env = hmf.HanabiParallelEnvironment(env_conf, n_parallel)\n",
    "\n",
    "\n",
    "my_rules = []\n",
    "\n",
    "for _ in range(population_size):\n",
    "    x, _ = rules.random_rules(n_rules) \n",
    "    my_rules.append(np.array(x))\n",
    "\n",
    "my_rules = np.array(my_rules)\n",
    "\n",
    "\n",
    "scores = np.zeros((population_size, population_size, n_games_per_pair))\n",
    "\n",
    "        # individual_scores = []\n",
    "\n",
    "        # Agent plays against all the other agents n_parallel times / population_size\n",
    "        # But this happens sequentially -> TODO: Parallelize this loop\n",
    "for k in range(population_size):\n",
    "    # For each agent in the population, create a second agent composed of all other agents\n",
    "    agents = [ParallelRulebasedAgent(\n",
    "        [my_rules[k]], n_parallel), ParallelRulebasedAgent(my_rules, n_parallel)]\n",
    "\n",
    "    # Start a parallel session with these two agents and pass the number of games to be played between\n",
    "    # them as the environment config\n",
    "    parallel_session = hmf.HanabiParallelSession(env, agents)\n",
    "\n",
    "    # Get the result and append the scores\n",
    "    result = np.array(parallel_session.run_eval(dest=None, print_intermediate=False))\n",
    "    # print(f\"Shape of Result ----> {np.array(result).shape} \")\n",
    "\n",
    "    result = np.array(result)\n",
    "    # len(result) = {population_size * n_games } = 200 == 20 * 10\n",
    "\n",
    "    # split the results into a 2D array of individual scores\n",
    "    scores[k] = np.array(np.split(result, population_size))\n",
    "\n",
    "scores"
   ]
  },
  {
   "cell_type": "code",
   "execution_count": 28,
   "id": "inside-cotton",
   "metadata": {},
   "outputs": [
    {
     "data": {
      "text/plain": [
       "array([[6.8, 0. , 5.4, 7.9, 8.7],\n",
       "       [1.5, 0. , 0. , 0. , 1.8],\n",
       "       [5. , 0. , 4.6, 3.6, 5.2],\n",
       "       [9.3, 0. , 7.9, 5.5, 6.6],\n",
       "       [7.8, 2.8, 5.7, 9.2, 6.4]])"
      ]
     },
     "execution_count": 28,
     "metadata": {},
     "output_type": "execute_result"
    }
   ],
   "source": [
    "# scores.shape\n",
    "\n",
    "a = np.mean(scores, axis = 2)\n",
    "a"
   ]
  },
  {
   "cell_type": "code",
   "execution_count": 29,
   "id": "ongoing-produce",
   "metadata": {},
   "outputs": [
    {
     "data": {
      "text/plain": [
       "array([[0. , 5.4, 6.8, 7.9, 8.7],\n",
       "       [0. , 0. , 0. , 1.5, 1.8],\n",
       "       [0. , 3.6, 4.6, 5. , 5.2],\n",
       "       [0. , 5.5, 6.6, 7.9, 9.3],\n",
       "       [2.8, 5.7, 6.4, 7.8, 9.2]])"
      ]
     },
     "execution_count": 29,
     "metadata": {},
     "output_type": "execute_result"
    }
   ],
   "source": [
    "np.sort(a, axis =1)"
   ]
  },
  {
   "cell_type": "code",
   "execution_count": null,
   "id": "invisible-multimedia",
   "metadata": {},
   "outputs": [],
   "source": [
    "x = np.mean()"
   ]
  },
  {
   "cell_type": "code",
   "execution_count": 4,
   "id": "suspended-wisconsin",
   "metadata": {},
   "outputs": [],
   "source": [
    "x = np.mean(individual_scores, axis = 2)"
   ]
  },
  {
   "cell_type": "code",
   "execution_count": 5,
   "id": "demanding-kansas",
   "metadata": {},
   "outputs": [
    {
     "data": {
      "text/plain": [
       "array([[ 0. ,  0. ,  0. ,  7.3,  2.6],\n",
       "       [ 1.7,  0. ,  0. ,  2.3,  0. ],\n",
       "       [ 0. ,  0. ,  1.6,  7.3,  2.6],\n",
       "       [ 6. ,  1.1,  2.5, 11.5,  9.2],\n",
       "       [ 3.6,  0. ,  2.6,  2.3,  1.5]])"
      ]
     },
     "execution_count": 5,
     "metadata": {},
     "output_type": "execute_result"
    }
   ],
   "source": [
    "scores"
   ]
  },
  {
   "cell_type": "code",
   "execution_count": 6,
   "id": "dramatic-amendment",
   "metadata": {},
   "outputs": [
    {
     "data": {
      "text/plain": [
       "array([[ 0. ,  0. ,  0. ,  7.3,  2.6],\n",
       "       [ 1.7,  0. ,  0. ,  2.3,  0. ],\n",
       "       [ 0. ,  0. ,  1.6,  7.3,  2.6],\n",
       "       [ 6. ,  1.1,  2.5, 11.5,  9.2],\n",
       "       [ 3.6,  0. ,  2.6,  2.3,  1.5]])"
      ]
     },
     "execution_count": 6,
     "metadata": {},
     "output_type": "execute_result"
    }
   ],
   "source": [
    "x"
   ]
  },
  {
   "cell_type": "code",
   "execution_count": 64,
   "id": "afraid-hygiene",
   "metadata": {},
   "outputs": [
    {
     "data": {
      "text/plain": [
       "array([0.58, 2.18, 2.84, 0.68, 0.5 ])"
      ]
     },
     "execution_count": 64,
     "metadata": {},
     "output_type": "execute_result"
    }
   ],
   "source": [
    "np.mean(x, axis = 1)"
   ]
  },
  {
   "cell_type": "code",
   "execution_count": 67,
   "id": "fewer-council",
   "metadata": {},
   "outputs": [
    {
     "data": {
      "text/plain": [
       "2.1799999999999997"
      ]
     },
     "execution_count": 67,
     "metadata": {},
     "output_type": "execute_result"
    }
   ],
   "source": [
    "np.mean([0. , 7.3, 1.4, 1.6, 0.6]) "
   ]
  },
  {
   "cell_type": "code",
   "execution_count": 76,
   "id": "bacterial-teach",
   "metadata": {},
   "outputs": [],
   "source": [
    "alpha = 0.01\n",
    "beta = 0.2\n",
    " \n",
    "performances = np.zeros((x.shape[0], x.shape[1]))\n",
    "\n",
    "for i in range(x.shape[0]): \n",
    "    for j in range(x.shape[1]):\n",
    "        d_i_j = x[i,j] + alpha * Diversity.Name_Distance(my_rules[i], my_rules[j], rulebase) \n",
    "        performances[i,j] = beta * d_i_j\n",
    "\n",
    "    \n",
    "        \n"
   ]
  },
  {
   "cell_type": "code",
   "execution_count": 77,
   "id": "hungry-deposit",
   "metadata": {},
   "outputs": [
    {
     "data": {
      "text/plain": [
       "array([0.12145005, 0.44247924, 0.57272117, 0.14107313, 0.1047392 ])"
      ]
     },
     "execution_count": 77,
     "metadata": {},
     "output_type": "execute_result"
    }
   ],
   "source": [
    "performances = np.mean(performances, axis = 1)\n",
    "\n",
    "performances"
   ]
  },
  {
   "cell_type": "code",
   "execution_count": 78,
   "id": "found-dryer",
   "metadata": {},
   "outputs": [
    {
     "data": {
      "text/plain": [
       "array([4, 0, 3, 1, 2])"
      ]
     },
     "execution_count": 78,
     "metadata": {},
     "output_type": "execute_result"
    }
   ],
   "source": [
    "np.argsort(performances)"
   ]
  },
  {
   "cell_type": "code",
   "execution_count": 7,
   "id": "generous-choir",
   "metadata": {},
   "outputs": [],
   "source": [
    "fitness = np.mean(np.sort(x, axis =1)[-2:], axis =1)"
   ]
  },
  {
   "cell_type": "code",
   "execution_count": 21,
   "id": "julian-converter",
   "metadata": {},
   "outputs": [],
   "source": [
    "y = np.sort(x, axis = 1 )"
   ]
  },
  {
   "cell_type": "code",
   "execution_count": 22,
   "id": "expanded-poker",
   "metadata": {},
   "outputs": [
    {
     "data": {
      "text/plain": [
       "array([[ 0. ,  0. ,  0. ,  2.6,  7.3],\n",
       "       [ 0. ,  0. ,  0. ,  1.7,  2.3],\n",
       "       [ 0. ,  0. ,  1.6,  2.6,  7.3],\n",
       "       [ 1.1,  2.5,  6. ,  9.2, 11.5],\n",
       "       [ 0. ,  1.5,  2.3,  2.6,  3.6]])"
      ]
     },
     "execution_count": 22,
     "metadata": {},
     "output_type": "execute_result"
    }
   ],
   "source": [
    "y"
   ]
  },
  {
   "cell_type": "code",
   "execution_count": 23,
   "id": "closed-musician",
   "metadata": {},
   "outputs": [],
   "source": [
    "z = [ arr[-2:] for arr in y]"
   ]
  },
  {
   "cell_type": "code",
   "execution_count": 24,
   "id": "floating-gardening",
   "metadata": {},
   "outputs": [
    {
     "data": {
      "text/plain": [
       "[array([2.6, 7.3]),\n",
       " array([1.7, 2.3]),\n",
       " array([2.6, 7.3]),\n",
       " array([ 9.2, 11.5]),\n",
       " array([2.6, 3.6])]"
      ]
     },
     "execution_count": 24,
     "metadata": {},
     "output_type": "execute_result"
    }
   ],
   "source": [
    "z = np."
   ]
  },
  {
   "cell_type": "code",
   "execution_count": 25,
   "id": "raised-tablet",
   "metadata": {},
   "outputs": [],
   "source": [
    "z = np.mean(z, axis=1)"
   ]
  },
  {
   "cell_type": "code",
   "execution_count": 26,
   "id": "danish-marine",
   "metadata": {},
   "outputs": [
    {
     "data": {
      "text/plain": [
       "array([ 4.95,  2.  ,  4.95, 10.35,  3.1 ])"
      ]
     },
     "execution_count": 26,
     "metadata": {},
     "output_type": "execute_result"
    }
   ],
   "source": [
    "z"
   ]
  },
  {
   "cell_type": "code",
   "execution_count": 39,
   "id": "deadly-xerox",
   "metadata": {},
   "outputs": [
    {
     "data": {
      "text/plain": [
       "array([0.04531433, 0.27188595, 0.40782893, 0.54377191, 0.67971488])"
      ]
     },
     "execution_count": 39,
     "metadata": {},
     "output_type": "execute_result"
    }
   ],
   "source": [
    "ls = np.array( [100,600,900,1200,1500] )\n",
    "\n",
    "ls / np.linalg.norm(ls) "
   ]
  },
  {
   "cell_type": "code",
   "execution_count": 35,
   "id": "practical-invite",
   "metadata": {},
   "outputs": [],
   "source": []
  },
  {
   "cell_type": "code",
   "execution_count": 36,
   "id": "responsible-model",
   "metadata": {},
   "outputs": [
    {
     "data": {
      "text/plain": [
       "55"
      ]
     },
     "execution_count": 36,
     "metadata": {},
     "output_type": "execute_result"
    }
   ],
   "source": [
    "s = 0\n",
    "\n",
    "for k in ls_2:\n",
    "    s += k \n",
    "    \n",
    "s "
   ]
  },
  {
   "cell_type": "code",
   "execution_count": 37,
   "id": "elegant-principal",
   "metadata": {},
   "outputs": [
    {
     "data": {
      "text/plain": [
       "7.416198487095663"
      ]
     },
     "execution_count": 37,
     "metadata": {},
     "output_type": "execute_result"
    }
   ],
   "source": [
    "np.sqrt(s)"
   ]
  },
  {
   "cell_type": "code",
   "execution_count": 57,
   "id": "musical-japanese",
   "metadata": {},
   "outputs": [
    {
     "data": {
      "text/plain": [
       "0.9899494936611665"
      ]
     },
     "execution_count": 57,
     "metadata": {},
     "output_type": "execute_result"
    }
   ],
   "source": [
    "np.linalg.norm ( [0, 0.7] + [0.7, 0] )"
   ]
  },
  {
   "cell_type": "code",
   "execution_count": 64,
   "id": "educational-ribbon",
   "metadata": {},
   "outputs": [
    {
     "data": {
      "text/plain": [
       "70"
      ]
     },
     "execution_count": 64,
     "metadata": {},
     "output_type": "execute_result"
    }
   ],
   "source": [
    "a = np.array([1,2,3,4])\n",
    "b = np.array([5,6,7,8])\n",
    "\n",
    "a @ b"
   ]
  },
  {
   "cell_type": "code",
   "execution_count": 65,
   "id": "powerful-aluminum",
   "metadata": {},
   "outputs": [
    {
     "data": {
      "text/plain": [
       "70"
      ]
     },
     "execution_count": 65,
     "metadata": {},
     "output_type": "execute_result"
    }
   ],
   "source": [
    "5 + 12 + 21 + 32"
   ]
  },
  {
   "cell_type": "code",
   "execution_count": 14,
   "id": "orange-particular",
   "metadata": {},
   "outputs": [],
   "source": [
    "p = np.dstack(([[1,2], [2,3]], [[2,3], [3,4]] ))"
   ]
  },
  {
   "cell_type": "code",
   "execution_count": 22,
   "id": "patent-belle",
   "metadata": {},
   "outputs": [
    {
     "data": {
      "text/plain": [
       "(2, 3)"
      ]
     },
     "execution_count": 22,
     "metadata": {},
     "output_type": "execute_result"
    }
   ],
   "source": [
    "a = np.array(\n",
    "    [\n",
    "        [1,2,3],\n",
    "        [4,5,6]\n",
    "    ]\n",
    ")\n",
    "\n",
    "b = np.array(\n",
    "    [\n",
    "        [4,5,6],\n",
    "        [7,8,9]\n",
    "    ]\n",
    ")\n",
    "\n",
    "a.shape"
   ]
  },
  {
   "cell_type": "code",
   "execution_count": 21,
   "id": "rising-consumption",
   "metadata": {},
   "outputs": [
    {
     "data": {
      "text/plain": [
       "(2, 3, 2)"
      ]
     },
     "execution_count": 21,
     "metadata": {},
     "output_type": "execute_result"
    }
   ],
   "source": [
    "p = np.dstack((a,b))\n",
    "p.shape"
   ]
  },
  {
   "cell_type": "code",
   "execution_count": 23,
   "id": "lasting-pacific",
   "metadata": {},
   "outputs": [
    {
     "data": {
      "text/plain": [
       "(2, 3, 3)"
      ]
     },
     "execution_count": 23,
     "metadata": {},
     "output_type": "execute_result"
    }
   ],
   "source": [
    "p = np.dstack((p, a))\n",
    "p.shape"
   ]
  },
  {
   "cell_type": "code",
   "execution_count": 24,
   "id": "excessive-stewart",
   "metadata": {},
   "outputs": [
    {
     "data": {
      "text/plain": [
       "array([[[1, 4, 1],\n",
       "        [2, 5, 2],\n",
       "        [3, 6, 3]],\n",
       "\n",
       "       [[4, 7, 4],\n",
       "        [5, 8, 5],\n",
       "        [6, 9, 6]]])"
      ]
     },
     "execution_count": 24,
     "metadata": {},
     "output_type": "execute_result"
    }
   ],
   "source": [
    "p "
   ]
  },
  {
   "cell_type": "code",
   "execution_count": null,
   "id": "turned-pipeline",
   "metadata": {},
   "outputs": [],
   "source": []
  }
 ],
 "metadata": {
  "kernelspec": {
   "display_name": "Python 3",
   "language": "python",
   "name": "python3"
  },
  "language_info": {
   "codemirror_mode": {
    "name": "ipython",
    "version": 3
   },
   "file_extension": ".py",
   "mimetype": "text/x-python",
   "name": "python",
   "nbconvert_exporter": "python",
   "pygments_lexer": "ipython3",
   "version": "3.8.5"
  }
 },
 "nbformat": 4,
 "nbformat_minor": 5
}
