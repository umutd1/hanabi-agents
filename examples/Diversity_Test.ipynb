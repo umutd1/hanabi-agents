{
 "cells": [
  {
   "cell_type": "code",
   "execution_count": 1,
   "id": "prescription-independence",
   "metadata": {},
   "outputs": [],
   "source": [
    "import hanabi_multiagent_framework as hmf\n",
    "from hanabi_multiagent_framework.utils import make_hanabi_env_config\n",
    "import numpy as np\n",
    "from numpy import ndarray\n",
    "from hanabi_agents.rule_based import ParallelRulebasedAgent\n",
    "import hanabi_agents.rule_based.predefined_rules as rules\n",
    "from hanabi_learning_environment import pyhanabi, rl_env\n",
    "from hanabi_agents.rule_based.Diversity import Diversity\n",
    "from hanabi_agents.rule_based.ruleset import Ruleset \n",
    "from evolve import Evolution\n",
    "import timeit\n",
    "import statistics\n",
    "import dill as pickle\n",
    "import math"
   ]
  },
  {
   "cell_type": "markdown",
   "id": "ordinary-economy",
   "metadata": {},
   "source": [
    "## Intra-Agent Entropy Code"
   ]
  },
  {
   "cell_type": "code",
   "execution_count": 189,
   "id": "thick-stretch",
   "metadata": {},
   "outputs": [],
   "source": [
    "def Intra_Agent_Entropy(my_rules):\n",
    "\n",
    "    names_dict = {}\n",
    "\n",
    "    for i in rule_names:\n",
    "        names_dict[i] = 1e-6 \n",
    "\n",
    "    agent_rules = []\n",
    "    #For all agents, make a names dictionary\n",
    "    for _ in range(my_rules.shape[0]):\n",
    "        agent_rules.append(names_dict.copy())\n",
    "\n",
    "\n",
    "    agent_rules = np.array(agent_rules) \n",
    "\n",
    "    for i in range(my_rules.shape[0]):\n",
    "        rule_list = my_rules[i]\n",
    "        agent = agent_rules[i]\n",
    "        for rule in rule_list:\n",
    "            if agent[rule.__name__] == 1e-6:\n",
    "                agent[rule.__name__] = 1\n",
    "\n",
    "            else:\n",
    "                agent[rule.__name__] += 1\n",
    "\n",
    "    # Update Probabilities\n",
    "    agent_probs = []\n",
    "\n",
    "    for agent in agent_rules:\n",
    "        agent_probs.append(agent.copy())\n",
    "\n",
    "    for agent in agent_probs:\n",
    "        for rule in agent.keys():\n",
    "            agent[rule] = agent[rule] / my_rules.shape[1]\n",
    "\n",
    "\n",
    "    # Calculate Entropy\n",
    "    Entropies = []\n",
    "    for agent in agent_probs:\n",
    "        E = 0\n",
    "        for rules in agent.keys():\n",
    "            E += - agent[rule] * math.log(agent[rule])\n",
    "\n",
    "        Entropies.append(E)\n",
    "\n",
    "    Entropies = np.array(Entropies)\n",
    "\n",
    "    return Entropies"
   ]
  },
  {
   "cell_type": "code",
   "execution_count": 207,
   "id": "desperate-angola",
   "metadata": {},
   "outputs": [],
   "source": [
    "population_size = 5\n",
    "n_rules = 20\n",
    "my_rules = np.array([rules.random_rules(n_rules) for _ in range(population_size)])\n",
    "\n",
    "# diversity = Intra_Agent_Entropy(my_rules)"
   ]
  },
  {
   "cell_type": "code",
   "execution_count": 226,
   "id": "opposite-jacob",
   "metadata": {},
   "outputs": [
    {
     "data": {
      "text/plain": [
       "(12,)"
      ]
     },
     "execution_count": 226,
     "metadata": {},
     "output_type": "execute_result"
    }
   ],
   "source": [
    "rule_names = []\n",
    "for i in range(my_rules.shape[0]):\n",
    "    for j in range(my_rules.shape[1]):\n",
    "        rule_names.append(my_rules[i,j].__name__)\n",
    "\n",
    "rule_names = np.unique(rule_names)"
   ]
  },
  {
   "cell_type": "code",
   "execution_count": 224,
   "id": "electronic-newark",
   "metadata": {},
   "outputs": [
    {
     "data": {
      "text/plain": [
       "array(['discard_oldest_first', 'discard_randomly', 'hail_mary',\n",
       "       'osawa_discard', 'play_probably_safe_treshold',\n",
       "       'play_probably_useless_treshold', 'tell_anyone_useful_card',\n",
       "       'tell_anyone_useless_card', 'tell_dispensable',\n",
       "       'tell_most_information', 'tell_playable_card_outer',\n",
       "       'tell_randomly'], dtype='<U30')"
      ]
     },
     "execution_count": 224,
     "metadata": {},
     "output_type": "execute_result"
    }
   ],
   "source": []
  },
  {
   "cell_type": "code",
   "execution_count": 212,
   "id": "beneficial-external",
   "metadata": {},
   "outputs": [
    {
     "data": {
      "text/plain": [
       "array([2, 3, 0, 1, 4])"
      ]
     },
     "execution_count": 212,
     "metadata": {},
     "output_type": "execute_result"
    }
   ],
   "source": [
    "diversity"
   ]
  },
  {
   "cell_type": "code",
   "execution_count": 215,
   "id": "hydraulic-darkness",
   "metadata": {
    "scrolled": false
   },
   "outputs": [
    {
     "data": {
      "text/plain": [
       "array(['discard_oldest_first', 'discard_randomly', 'hail_mary',\n",
       "       'osawa_discard', 'play_probably_safe_treshold',\n",
       "       'play_probably_useless_treshold', 'tell_anyone_useful_card',\n",
       "       'tell_anyone_useless_card', 'tell_dispensable',\n",
       "       'tell_most_information', 'tell_playable_card_outer',\n",
       "       'tell_randomly'], dtype='<U30')"
      ]
     },
     "execution_count": 215,
     "metadata": {},
     "output_type": "execute_result"
    }
   ],
   "source": [
    "rule_names"
   ]
  },
  {
   "cell_type": "markdown",
   "id": "interesting-position",
   "metadata": {},
   "source": [
    "## Name Distance"
   ]
  },
  {
   "cell_type": "code",
   "execution_count": 9,
   "id": "unknown-heading",
   "metadata": {},
   "outputs": [],
   "source": [
    "population_size = 5\n",
    "n_rules = 20\n",
    "\n",
    "my_rules = []\n",
    "\n",
    "for _ in range(population_size):\n",
    "    x, _ = rules.random_rules(n_rules) \n",
    "    my_rules.append(np.array(x))\n",
    "\n",
    "my_rules = np.array(my_rules)"
   ]
  },
  {
   "cell_type": "code",
   "execution_count": 10,
   "id": "challenging-explanation",
   "metadata": {},
   "outputs": [
    {
     "data": {
      "text/plain": [
       "(5, 20)"
      ]
     },
     "execution_count": 10,
     "metadata": {},
     "output_type": "execute_result"
    }
   ],
   "source": [
    "my_rules.shape"
   ]
  },
  {
   "cell_type": "code",
   "execution_count": 11,
   "id": "sized-fruit",
   "metadata": {},
   "outputs": [],
   "source": [
    "A = np.array(my_rules[0])\n",
    "B = np.array(my_rules[3])"
   ]
  },
  {
   "cell_type": "code",
   "execution_count": 12,
   "id": "leading-thousand",
   "metadata": {},
   "outputs": [
    {
     "data": {
      "text/plain": [
       "array(['play_probably_safe_treshold', 'play_probably_useless_treshold',\n",
       "       'tell_dispensable', 'hail_mary', 'tell_playable_card_outer',\n",
       "       'tell_randomly', 'tell_anyone_useful_card',\n",
       "       'tell_anyone_useless_card', 'tell_most_information',\n",
       "       'discard_randomly', 'osawa_discard', 'discard_oldest_first'],\n",
       "      dtype='<U30')"
      ]
     },
     "execution_count": 12,
     "metadata": {},
     "output_type": "execute_result"
    }
   ],
   "source": [
    "rulebase = np.array(rules.big_ruleset)\n",
    "\n",
    "axes = [] \n",
    "\n",
    "for rule in rulebase: \n",
    "    if rule.__name__ not in axes:\n",
    "        axes.append(rule.__name__)\n",
    "\n",
    "axes = np.array(axes)\n",
    "axes"
   ]
  },
  {
   "cell_type": "code",
   "execution_count": 30,
   "id": "solar-stadium",
   "metadata": {},
   "outputs": [],
   "source": [
    "A_ = np.zeros(axes.shape[0])\n",
    "B_ = np.zeros(axes.shape[0])\n",
    "\n",
    "for rule in A: \n",
    "    index = np.where(axes == rule.__name__)\n",
    "    A_[index] += 1\n",
    "    \n",
    "for rule in B: \n",
    "    index = np.where(axes == rule.__name__ )\n",
    "    B_[index] += 1"
   ]
  },
  {
   "cell_type": "code",
   "execution_count": 31,
   "id": "difficult-martial",
   "metadata": {},
   "outputs": [
    {
     "data": {
      "text/plain": [
       "array([11.,  3.,  3.,  0.,  1.,  0.,  0.,  0.,  1.,  0.,  1.,  0.])"
      ]
     },
     "execution_count": 31,
     "metadata": {},
     "output_type": "execute_result"
    }
   ],
   "source": [
    "A_"
   ]
  },
  {
   "cell_type": "code",
   "execution_count": 32,
   "id": "banner-region",
   "metadata": {},
   "outputs": [
    {
     "data": {
      "text/plain": [
       "array([7., 4., 4., 0., 1., 0., 1., 0., 1., 1., 1., 0.])"
      ]
     },
     "execution_count": 32,
     "metadata": {},
     "output_type": "execute_result"
    }
   ],
   "source": [
    "B_"
   ]
  },
  {
   "cell_type": "code",
   "execution_count": 34,
   "id": "offshore-gothic",
   "metadata": {},
   "outputs": [],
   "source": [
    "dist = np.linalg.norm(A_ - B_)"
   ]
  },
  {
   "cell_type": "code",
   "execution_count": 35,
   "id": "still-southwest",
   "metadata": {},
   "outputs": [
    {
     "data": {
      "text/plain": [
       "4.47213595499958"
      ]
     },
     "execution_count": 35,
     "metadata": {},
     "output_type": "execute_result"
    }
   ],
   "source": []
  },
  {
   "cell_type": "code",
   "execution_count": 13,
   "id": "organized-tourism",
   "metadata": {},
   "outputs": [
    {
     "data": {
      "text/plain": [
       "3.1622776601683795"
      ]
     },
     "execution_count": 13,
     "metadata": {},
     "output_type": "execute_result"
    }
   ],
   "source": [
    "Diversity.Name_Distance(A, B, rulebase)"
   ]
  },
  {
   "cell_type": "code",
   "execution_count": null,
   "id": "historic-genius",
   "metadata": {},
   "outputs": [],
   "source": []
  },
  {
   "cell_type": "markdown",
   "id": "present-prototype",
   "metadata": {},
   "source": [
    "## Checking the Evaluation procedure"
   ]
  },
  {
   "cell_type": "code",
   "execution_count": 18,
   "id": "instant-nirvana",
   "metadata": {},
   "outputs": [],
   "source": []
  },
  {
   "cell_type": "code",
   "execution_count": 2,
   "id": "bacterial-jordan",
   "metadata": {},
   "outputs": [
    {
     "name": "stdout",
     "output_type": "stream",
     "text": [
      "Shape of Result ----> (50,) \n",
      "Shape of Result ----> (50,) \n",
      "Shape of Result ----> (50,) \n",
      "Shape of Result ----> (50,) \n",
      "Shape of Result ----> (50,) \n"
     ]
    }
   ],
   "source": [
    "population_size = 5\n",
    "n_rules = 20\n",
    "n_parallel = 50 \n",
    "n_players = 2\n",
    "\n",
    "# Initialize the environment\n",
    "env_conf = make_hanabi_env_config('Hanabi-Full', n_players)\n",
    "env = hmf.HanabiParallelEnvironment(env_conf, n_parallel)\n",
    "\n",
    "\n",
    "my_rules = []\n",
    "\n",
    "for _ in range(population_size):\n",
    "    x, _ = rules.random_rules(n_rules) \n",
    "    my_rules.append(np.array(x))\n",
    "\n",
    "my_rules = np.array(my_rules)\n",
    "\n",
    "\n",
    "scores = []\n",
    "individual_scores = np.zeros((population_size, population_size, 10))\n",
    "\n",
    "for k in range(population_size):\n",
    "    \n",
    "    # For each agent in the population, create a second agent composed of all agents\n",
    "    agents = [ParallelRulebasedAgent([my_rules[k]], n_parallel), ParallelRulebasedAgent(my_rules, n_parallel)]\n",
    "\n",
    "    # Start a parallel session with these two agents and pass the number of games to be played between\n",
    "    # them as the environment config\n",
    "    parallel_session = hmf.HanabiParallelSession(env, agents)\n",
    "\n",
    "    # Get the result and append the scores\n",
    "    result = np.array(parallel_session.run_eval(dest=None, print_intermediate=False))\n",
    "    print(f\"Shape of Result ----> {np.array(result).shape} \")\n",
    "\n",
    "    result = np.array(result)\n",
    "\n",
    "    # split the results into a 2D array of individual scores and append\n",
    "    individual_scores[k] = np.array(np.split(result, population_size))\n",
    "\n",
    "    # Take the average of all games between pairs\n",
    "    result = np.array([np.mean(arr) for arr in individual_scores[k]])\n",
    "    # print(f\"Result after averaging: {result}\")\n",
    "\n",
    "    scores.append(result)\n",
    "\n",
    "scores = np.array(scores)\n",
    "individual_scores = np.array(individual_scores)"
   ]
  },
  {
   "cell_type": "code",
   "execution_count": 3,
   "id": "inside-cotton",
   "metadata": {},
   "outputs": [
    {
     "data": {
      "text/plain": [
       "(5, 5)"
      ]
     },
     "execution_count": 3,
     "metadata": {},
     "output_type": "execute_result"
    }
   ],
   "source": [
    "scores.shape"
   ]
  },
  {
   "cell_type": "code",
   "execution_count": 4,
   "id": "suspended-wisconsin",
   "metadata": {},
   "outputs": [],
   "source": [
    "x = np.mean(individual_scores, axis = 2)"
   ]
  },
  {
   "cell_type": "code",
   "execution_count": 5,
   "id": "demanding-kansas",
   "metadata": {},
   "outputs": [
    {
     "data": {
      "text/plain": [
       "array([[ 0. ,  0. ,  0. ,  7.3,  2.6],\n",
       "       [ 1.7,  0. ,  0. ,  2.3,  0. ],\n",
       "       [ 0. ,  0. ,  1.6,  7.3,  2.6],\n",
       "       [ 6. ,  1.1,  2.5, 11.5,  9.2],\n",
       "       [ 3.6,  0. ,  2.6,  2.3,  1.5]])"
      ]
     },
     "execution_count": 5,
     "metadata": {},
     "output_type": "execute_result"
    }
   ],
   "source": [
    "scores"
   ]
  },
  {
   "cell_type": "code",
   "execution_count": 6,
   "id": "dramatic-amendment",
   "metadata": {},
   "outputs": [
    {
     "data": {
      "text/plain": [
       "array([[ 0. ,  0. ,  0. ,  7.3,  2.6],\n",
       "       [ 1.7,  0. ,  0. ,  2.3,  0. ],\n",
       "       [ 0. ,  0. ,  1.6,  7.3,  2.6],\n",
       "       [ 6. ,  1.1,  2.5, 11.5,  9.2],\n",
       "       [ 3.6,  0. ,  2.6,  2.3,  1.5]])"
      ]
     },
     "execution_count": 6,
     "metadata": {},
     "output_type": "execute_result"
    }
   ],
   "source": [
    "x"
   ]
  },
  {
   "cell_type": "code",
   "execution_count": 64,
   "id": "afraid-hygiene",
   "metadata": {},
   "outputs": [
    {
     "data": {
      "text/plain": [
       "array([0.58, 2.18, 2.84, 0.68, 0.5 ])"
      ]
     },
     "execution_count": 64,
     "metadata": {},
     "output_type": "execute_result"
    }
   ],
   "source": [
    "np.mean(x, axis = 1)"
   ]
  },
  {
   "cell_type": "code",
   "execution_count": 67,
   "id": "fewer-council",
   "metadata": {},
   "outputs": [
    {
     "data": {
      "text/plain": [
       "2.1799999999999997"
      ]
     },
     "execution_count": 67,
     "metadata": {},
     "output_type": "execute_result"
    }
   ],
   "source": [
    "np.mean([0. , 7.3, 1.4, 1.6, 0.6]) "
   ]
  },
  {
   "cell_type": "code",
   "execution_count": 76,
   "id": "bacterial-teach",
   "metadata": {},
   "outputs": [],
   "source": [
    "alpha = 0.01\n",
    "beta = 0.2\n",
    " \n",
    "performances = np.zeros((x.shape[0], x.shape[1]))\n",
    "\n",
    "for i in range(x.shape[0]): \n",
    "    for j in range(x.shape[1]):\n",
    "        d_i_j = x[i,j] + alpha * Diversity.Name_Distance(my_rules[i], my_rules[j], rulebase) \n",
    "        performances[i,j] = beta * d_i_j\n",
    "\n",
    "    \n",
    "        \n"
   ]
  },
  {
   "cell_type": "code",
   "execution_count": 77,
   "id": "hungry-deposit",
   "metadata": {},
   "outputs": [
    {
     "data": {
      "text/plain": [
       "array([0.12145005, 0.44247924, 0.57272117, 0.14107313, 0.1047392 ])"
      ]
     },
     "execution_count": 77,
     "metadata": {},
     "output_type": "execute_result"
    }
   ],
   "source": [
    "performances = np.mean(performances, axis = 1)\n",
    "\n",
    "performances"
   ]
  },
  {
   "cell_type": "code",
   "execution_count": 78,
   "id": "found-dryer",
   "metadata": {},
   "outputs": [
    {
     "data": {
      "text/plain": [
       "array([4, 0, 3, 1, 2])"
      ]
     },
     "execution_count": 78,
     "metadata": {},
     "output_type": "execute_result"
    }
   ],
   "source": [
    "np.argsort(performances)"
   ]
  },
  {
   "cell_type": "code",
   "execution_count": 7,
   "id": "generous-choir",
   "metadata": {},
   "outputs": [],
   "source": [
    "fitness = np.mean(np.sort(x, axis =1)[-2:], axis =1)"
   ]
  },
  {
   "cell_type": "code",
   "execution_count": 21,
   "id": "julian-converter",
   "metadata": {},
   "outputs": [],
   "source": [
    "y = np.sort(x, axis = 1 )"
   ]
  },
  {
   "cell_type": "code",
   "execution_count": 22,
   "id": "expanded-poker",
   "metadata": {},
   "outputs": [
    {
     "data": {
      "text/plain": [
       "array([[ 0. ,  0. ,  0. ,  2.6,  7.3],\n",
       "       [ 0. ,  0. ,  0. ,  1.7,  2.3],\n",
       "       [ 0. ,  0. ,  1.6,  2.6,  7.3],\n",
       "       [ 1.1,  2.5,  6. ,  9.2, 11.5],\n",
       "       [ 0. ,  1.5,  2.3,  2.6,  3.6]])"
      ]
     },
     "execution_count": 22,
     "metadata": {},
     "output_type": "execute_result"
    }
   ],
   "source": [
    "y"
   ]
  },
  {
   "cell_type": "code",
   "execution_count": 23,
   "id": "closed-musician",
   "metadata": {},
   "outputs": [],
   "source": [
    "z = [ arr[-2:] for arr in y]"
   ]
  },
  {
   "cell_type": "code",
   "execution_count": 24,
   "id": "floating-gardening",
   "metadata": {},
   "outputs": [
    {
     "data": {
      "text/plain": [
       "[array([2.6, 7.3]),\n",
       " array([1.7, 2.3]),\n",
       " array([2.6, 7.3]),\n",
       " array([ 9.2, 11.5]),\n",
       " array([2.6, 3.6])]"
      ]
     },
     "execution_count": 24,
     "metadata": {},
     "output_type": "execute_result"
    }
   ],
   "source": [
    "z = np."
   ]
  },
  {
   "cell_type": "code",
   "execution_count": 25,
   "id": "raised-tablet",
   "metadata": {},
   "outputs": [],
   "source": [
    "z = np.mean(z, axis=1)"
   ]
  },
  {
   "cell_type": "code",
   "execution_count": 26,
   "id": "danish-marine",
   "metadata": {},
   "outputs": [
    {
     "data": {
      "text/plain": [
       "array([ 4.95,  2.  ,  4.95, 10.35,  3.1 ])"
      ]
     },
     "execution_count": 26,
     "metadata": {},
     "output_type": "execute_result"
    }
   ],
   "source": [
    "z"
   ]
  },
  {
   "cell_type": "code",
   "execution_count": null,
   "id": "deadly-xerox",
   "metadata": {},
   "outputs": [],
   "source": []
  }
 ],
 "metadata": {
  "kernelspec": {
   "display_name": "Python 3",
   "language": "python",
   "name": "python3"
  },
  "language_info": {
   "codemirror_mode": {
    "name": "ipython",
    "version": 3
   },
   "file_extension": ".py",
   "mimetype": "text/x-python",
   "name": "python",
   "nbconvert_exporter": "python",
   "pygments_lexer": "ipython3",
   "version": "3.8.5"
  }
 },
 "nbformat": 4,
 "nbformat_minor": 5
}
